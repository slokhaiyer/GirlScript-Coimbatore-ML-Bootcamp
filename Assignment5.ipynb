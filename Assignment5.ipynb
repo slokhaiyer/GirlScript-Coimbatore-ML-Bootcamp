{
  "nbformat": 4,
  "nbformat_minor": 0,
  "metadata": {
    "colab": {
      "name": "Assignment5.ipynb",
      "provenance": []
    },
    "kernelspec": {
      "name": "python3",
      "display_name": "Python 3"
    }
  },
  "cells": [
    {
      "cell_type": "code",
      "metadata": {
        "id": "19RHrJwEPqOq",
        "colab_type": "code",
        "colab": {}
      },
      "source": [
        "import pandas as pd"
      ],
      "execution_count": 1,
      "outputs": []
    },
    {
      "cell_type": "code",
      "metadata": {
        "id": "wkNhiFuPPv4t",
        "colab_type": "code",
        "colab": {}
      },
      "source": [
        "sal=pd.read_csv('Salaries.csv')"
      ],
      "execution_count": 2,
      "outputs": []
    },
    {
      "cell_type": "code",
      "metadata": {
        "id": "wmNJyqltSkPv",
        "colab_type": "code",
        "colab": {
          "base_uri": "https://localhost:8080/",
          "height": 364
        },
        "outputId": "8f69bde2-abc2-48f9-ad0c-c1d8ad183ae7"
      },
      "source": [
        "#Use the .info() method to find out how many entries there are.\n",
        "sal.info()"
      ],
      "execution_count": 3,
      "outputs": [
        {
          "output_type": "stream",
          "text": [
            "<class 'pandas.core.frame.DataFrame'>\n",
            "RangeIndex: 148654 entries, 0 to 148653\n",
            "Data columns (total 13 columns):\n",
            " #   Column            Non-Null Count   Dtype  \n",
            "---  ------            --------------   -----  \n",
            " 0   Id                148654 non-null  int64  \n",
            " 1   EmployeeName      148654 non-null  object \n",
            " 2   JobTitle          148654 non-null  object \n",
            " 3   BasePay           148045 non-null  float64\n",
            " 4   OvertimePay       148650 non-null  float64\n",
            " 5   OtherPay          148650 non-null  float64\n",
            " 6   Benefits          112491 non-null  float64\n",
            " 7   TotalPay          148654 non-null  float64\n",
            " 8   TotalPayBenefits  148654 non-null  float64\n",
            " 9   Year              148654 non-null  int64  \n",
            " 10  Notes             0 non-null       float64\n",
            " 11  Agency            148654 non-null  object \n",
            " 12  Status            0 non-null       float64\n",
            "dtypes: float64(8), int64(2), object(3)\n",
            "memory usage: 14.7+ MB\n"
          ],
          "name": "stdout"
        }
      ]
    },
    {
      "cell_type": "code",
      "metadata": {
        "id": "eQT7MD-sSmcB",
        "colab_type": "code",
        "colab": {
          "base_uri": "https://localhost:8080/",
          "height": 482
        },
        "outputId": "9d5943f5-281f-4fa8-e5ad-2b0c3db6823f"
      },
      "source": [
        "#Check the head of the DataFrame.\n",
        "sal.head()"
      ],
      "execution_count": 4,
      "outputs": [
        {
          "output_type": "execute_result",
          "data": {
            "text/html": [
              "<div>\n",
              "<style scoped>\n",
              "    .dataframe tbody tr th:only-of-type {\n",
              "        vertical-align: middle;\n",
              "    }\n",
              "\n",
              "    .dataframe tbody tr th {\n",
              "        vertical-align: top;\n",
              "    }\n",
              "\n",
              "    .dataframe thead th {\n",
              "        text-align: right;\n",
              "    }\n",
              "</style>\n",
              "<table border=\"1\" class=\"dataframe\">\n",
              "  <thead>\n",
              "    <tr style=\"text-align: right;\">\n",
              "      <th></th>\n",
              "      <th>Id</th>\n",
              "      <th>EmployeeName</th>\n",
              "      <th>JobTitle</th>\n",
              "      <th>BasePay</th>\n",
              "      <th>OvertimePay</th>\n",
              "      <th>OtherPay</th>\n",
              "      <th>Benefits</th>\n",
              "      <th>TotalPay</th>\n",
              "      <th>TotalPayBenefits</th>\n",
              "      <th>Year</th>\n",
              "      <th>Notes</th>\n",
              "      <th>Agency</th>\n",
              "      <th>Status</th>\n",
              "    </tr>\n",
              "  </thead>\n",
              "  <tbody>\n",
              "    <tr>\n",
              "      <th>0</th>\n",
              "      <td>1</td>\n",
              "      <td>NATHANIEL FORD</td>\n",
              "      <td>GENERAL MANAGER-METROPOLITAN TRANSIT AUTHORITY</td>\n",
              "      <td>167411.18</td>\n",
              "      <td>0.00</td>\n",
              "      <td>400184.25</td>\n",
              "      <td>NaN</td>\n",
              "      <td>567595.43</td>\n",
              "      <td>567595.43</td>\n",
              "      <td>2011</td>\n",
              "      <td>NaN</td>\n",
              "      <td>San Francisco</td>\n",
              "      <td>NaN</td>\n",
              "    </tr>\n",
              "    <tr>\n",
              "      <th>1</th>\n",
              "      <td>2</td>\n",
              "      <td>GARY JIMENEZ</td>\n",
              "      <td>CAPTAIN III (POLICE DEPARTMENT)</td>\n",
              "      <td>155966.02</td>\n",
              "      <td>245131.88</td>\n",
              "      <td>137811.38</td>\n",
              "      <td>NaN</td>\n",
              "      <td>538909.28</td>\n",
              "      <td>538909.28</td>\n",
              "      <td>2011</td>\n",
              "      <td>NaN</td>\n",
              "      <td>San Francisco</td>\n",
              "      <td>NaN</td>\n",
              "    </tr>\n",
              "    <tr>\n",
              "      <th>2</th>\n",
              "      <td>3</td>\n",
              "      <td>ALBERT PARDINI</td>\n",
              "      <td>CAPTAIN III (POLICE DEPARTMENT)</td>\n",
              "      <td>212739.13</td>\n",
              "      <td>106088.18</td>\n",
              "      <td>16452.60</td>\n",
              "      <td>NaN</td>\n",
              "      <td>335279.91</td>\n",
              "      <td>335279.91</td>\n",
              "      <td>2011</td>\n",
              "      <td>NaN</td>\n",
              "      <td>San Francisco</td>\n",
              "      <td>NaN</td>\n",
              "    </tr>\n",
              "    <tr>\n",
              "      <th>3</th>\n",
              "      <td>4</td>\n",
              "      <td>CHRISTOPHER CHONG</td>\n",
              "      <td>WIRE ROPE CABLE MAINTENANCE MECHANIC</td>\n",
              "      <td>77916.00</td>\n",
              "      <td>56120.71</td>\n",
              "      <td>198306.90</td>\n",
              "      <td>NaN</td>\n",
              "      <td>332343.61</td>\n",
              "      <td>332343.61</td>\n",
              "      <td>2011</td>\n",
              "      <td>NaN</td>\n",
              "      <td>San Francisco</td>\n",
              "      <td>NaN</td>\n",
              "    </tr>\n",
              "    <tr>\n",
              "      <th>4</th>\n",
              "      <td>5</td>\n",
              "      <td>PATRICK GARDNER</td>\n",
              "      <td>DEPUTY CHIEF OF DEPARTMENT,(FIRE DEPARTMENT)</td>\n",
              "      <td>134401.60</td>\n",
              "      <td>9737.00</td>\n",
              "      <td>182234.59</td>\n",
              "      <td>NaN</td>\n",
              "      <td>326373.19</td>\n",
              "      <td>326373.19</td>\n",
              "      <td>2011</td>\n",
              "      <td>NaN</td>\n",
              "      <td>San Francisco</td>\n",
              "      <td>NaN</td>\n",
              "    </tr>\n",
              "  </tbody>\n",
              "</table>\n",
              "</div>"
            ],
            "text/plain": [
              "   Id       EmployeeName  ...         Agency  Status\n",
              "0   1     NATHANIEL FORD  ...  San Francisco     NaN\n",
              "1   2       GARY JIMENEZ  ...  San Francisco     NaN\n",
              "2   3     ALBERT PARDINI  ...  San Francisco     NaN\n",
              "3   4  CHRISTOPHER CHONG  ...  San Francisco     NaN\n",
              "4   5    PATRICK GARDNER  ...  San Francisco     NaN\n",
              "\n",
              "[5 rows x 13 columns]"
            ]
          },
          "metadata": {
            "tags": []
          },
          "execution_count": 4
        }
      ]
    },
    {
      "cell_type": "code",
      "metadata": {
        "id": "EUlZ3E1gWnWB",
        "colab_type": "code",
        "colab": {
          "base_uri": "https://localhost:8080/",
          "height": 35
        },
        "outputId": "dc2ed58a-de2b-4e57-b234-b57c157047ee"
      },
      "source": [
        "#What is the average BasePay ?\n",
        "\n",
        "sal['BasePay'].mean()\n"
      ],
      "execution_count": 5,
      "outputs": [
        {
          "output_type": "execute_result",
          "data": {
            "text/plain": [
              "66325.44884050643"
            ]
          },
          "metadata": {
            "tags": []
          },
          "execution_count": 5
        }
      ]
    },
    {
      "cell_type": "code",
      "metadata": {
        "id": "U-lFHcaxW1in",
        "colab_type": "code",
        "colab": {
          "base_uri": "https://localhost:8080/",
          "height": 35
        },
        "outputId": "216819fa-2f93-449f-e95e-5e9fac89b5b7"
      },
      "source": [
        "#What is the highest amount of OvertimePay in the dataset ?\n",
        "\n",
        "sal['OvertimePay'].max()\n"
      ],
      "execution_count": 6,
      "outputs": [
        {
          "output_type": "execute_result",
          "data": {
            "text/plain": [
              "245131.88"
            ]
          },
          "metadata": {
            "tags": []
          },
          "execution_count": 6
        }
      ]
    },
    {
      "cell_type": "code",
      "metadata": {
        "id": "N7KtN5CBXErp",
        "colab_type": "code",
        "colab": {
          "base_uri": "https://localhost:8080/",
          "height": 52
        },
        "outputId": "964a1a4f-6745-4c40-cb9d-f47a035ab28e"
      },
      "source": [
        "#What is the job title of JOSEPH DRISCOLL ? Note: Use all caps, (there is also a lowercase Joseph Driscoll).\n",
        "\n",
        "joseph_driscoll = sal[sal['EmployeeName'] == 'JOSEPH DRISCOLL']\n",
        "joseph_driscoll['JobTitle']\n"
      ],
      "execution_count": 7,
      "outputs": [
        {
          "output_type": "execute_result",
          "data": {
            "text/plain": [
              "24    CAPTAIN, FIRE SUPPRESSION\n",
              "Name: JobTitle, dtype: object"
            ]
          },
          "metadata": {
            "tags": []
          },
          "execution_count": 7
        }
      ]
    },
    {
      "cell_type": "code",
      "metadata": {
        "id": "ozFZ19LHXTiT",
        "colab_type": "code",
        "colab": {
          "base_uri": "https://localhost:8080/",
          "height": 52
        },
        "outputId": "ab9ab0d6-1351-4ae1-f028-6e0e79f0da08"
      },
      "source": [
        "#How much does JOSEPH DRISCOLL make (including benefits)?\n",
        "\n",
        "joseph_driscoll['TotalPayBenefits']\n"
      ],
      "execution_count": 8,
      "outputs": [
        {
          "output_type": "execute_result",
          "data": {
            "text/plain": [
              "24    270324.91\n",
              "Name: TotalPayBenefits, dtype: float64"
            ]
          },
          "metadata": {
            "tags": []
          },
          "execution_count": 8
        }
      ]
    },
    {
      "cell_type": "code",
      "metadata": {
        "id": "WZA-NA1MXyr0",
        "colab_type": "code",
        "colab": {
          "base_uri": "https://localhost:8080/",
          "height": 35
        },
        "outputId": "a4b9bbb7-ca7a-4868-a96c-007325fa57d8"
      },
      "source": [
        "#What is the name of highest paid person (including benefits)?\n",
        "highest_paid = sal.loc[sal['TotalPayBenefits'].idxmax()]\n",
        "highest_paid['EmployeeName']"
      ],
      "execution_count": 10,
      "outputs": [
        {
          "output_type": "execute_result",
          "data": {
            "application/vnd.google.colaboratory.intrinsic+json": {
              "type": "string"
            },
            "text/plain": [
              "'NATHANIEL FORD'"
            ]
          },
          "metadata": {
            "tags": []
          },
          "execution_count": 10
        }
      ]
    },
    {
      "cell_type": "code",
      "metadata": {
        "id": "tYpdCyu3X9ZB",
        "colab_type": "code",
        "colab": {
          "base_uri": "https://localhost:8080/",
          "height": 312
        },
        "outputId": "69b48608-da5f-41f6-a374-385fca0ccac1"
      },
      "source": [
        "#What is the name of lowest paid person (including benefits)? Do you notice something strange about how much he or she is paid?\n",
        "\n",
        "lowest_paid = sal.loc[sal['TotalPayBenefits'].idxmin()]\n",
        "print(lowest_paid)\n",
        "print(\"\\n\\nNo Base Pay and Total pay is negative in value\")"
      ],
      "execution_count": 14,
      "outputs": [
        {
          "output_type": "stream",
          "text": [
            "Id                                      148654\n",
            "EmployeeName                         Joe Lopez\n",
            "JobTitle            Counselor, Log Cabin Ranch\n",
            "BasePay                                      0\n",
            "OvertimePay                                  0\n",
            "OtherPay                               -618.13\n",
            "Benefits                                     0\n",
            "TotalPay                               -618.13\n",
            "TotalPayBenefits                       -618.13\n",
            "Year                                      2014\n",
            "Notes                                      NaN\n",
            "Agency                           San Francisco\n",
            "Status                                     NaN\n",
            "Name: 148653, dtype: object\n",
            "\n",
            "\n",
            "No Base Pay and Total pay is negative in value\n"
          ],
          "name": "stdout"
        }
      ]
    },
    {
      "cell_type": "code",
      "metadata": {
        "id": "gHRUlVNZYNbn",
        "colab_type": "code",
        "colab": {
          "base_uri": "https://localhost:8080/",
          "height": 121
        },
        "outputId": "e1d6e6cb-ca22-4bb6-a399-4f825a6a2602"
      },
      "source": [
        "#What was the average (mean) BasePay of all employees per year? (2011-2014) ?\n",
        "\n",
        "sal.groupby('Year').mean()['BasePay']\n"
      ],
      "execution_count": 15,
      "outputs": [
        {
          "output_type": "execute_result",
          "data": {
            "text/plain": [
              "Year\n",
              "2011    63595.956517\n",
              "2012    65436.406857\n",
              "2013    69630.030216\n",
              "2014    66564.421924\n",
              "Name: BasePay, dtype: float64"
            ]
          },
          "metadata": {
            "tags": []
          },
          "execution_count": 15
        }
      ]
    },
    {
      "cell_type": "code",
      "metadata": {
        "id": "q5dcUxzNY5Sf",
        "colab_type": "code",
        "colab": {
          "base_uri": "https://localhost:8080/",
          "height": 35
        },
        "outputId": "d41ae522-879b-4650-9631-ecb53c26f9ee"
      },
      "source": [
        "#How many unique job titles are there?\n",
        "\n",
        "sal['JobTitle'].nunique()\n"
      ],
      "execution_count": 16,
      "outputs": [
        {
          "output_type": "execute_result",
          "data": {
            "text/plain": [
              "2159"
            ]
          },
          "metadata": {
            "tags": []
          },
          "execution_count": 16
        }
      ]
    },
    {
      "cell_type": "code",
      "metadata": {
        "id": "Zan7wlK9ZBb9",
        "colab_type": "code",
        "colab": {
          "base_uri": "https://localhost:8080/",
          "height": 121
        },
        "outputId": "e9b014a5-39e2-4b46-d17a-2d5d83d15451"
      },
      "source": [
        "#What are the top 5 most common jobs?\n",
        "\n",
        "sal['JobTitle'].value_counts().head(5)\n"
      ],
      "execution_count": 17,
      "outputs": [
        {
          "output_type": "execute_result",
          "data": {
            "text/plain": [
              "Transit Operator                7036\n",
              "Special Nurse                   4389\n",
              "Registered Nurse                3736\n",
              "Public Svc Aide-Public Works    2518\n",
              "Police Officer 3                2421\n",
              "Name: JobTitle, dtype: int64"
            ]
          },
          "metadata": {
            "tags": []
          },
          "execution_count": 17
        }
      ]
    },
    {
      "cell_type": "code",
      "metadata": {
        "id": "DlzCRCzCZHfa",
        "colab_type": "code",
        "colab": {
          "base_uri": "https://localhost:8080/",
          "height": 35
        },
        "outputId": "2f204f55-912a-4cf5-e385-22ac89d194a9"
      },
      "source": [
        "#How many Job Titles were represented by only one person in 2013? (e.g. Job Titles with only one occurence in 2013?)\n",
        "\n",
        "sum(sal[sal['Year']==2013]['JobTitle'].value_counts()==1)\n"
      ],
      "execution_count": 18,
      "outputs": [
        {
          "output_type": "execute_result",
          "data": {
            "text/plain": [
              "202"
            ]
          },
          "metadata": {
            "tags": []
          },
          "execution_count": 18
        }
      ]
    },
    {
      "cell_type": "code",
      "metadata": {
        "id": "OhBgKN_4ZPDa",
        "colab_type": "code",
        "colab": {
          "base_uri": "https://localhost:8080/",
          "height": 35
        },
        "outputId": "8fd5c6fc-23f9-4091-c210-233d3af5f4cf"
      },
      "source": [
        "#How many people have the word Chief in their job title? (This is pretty tricky)\n",
        "\n",
        "def chief_string(title):\n",
        "    if 'chief' in title.lower().split():\n",
        "        return True\n",
        "    else:\n",
        "        return False\n",
        "sum(sal['JobTitle'].apply(lambda x:chief_string(x)))\n"
      ],
      "execution_count": 19,
      "outputs": [
        {
          "output_type": "execute_result",
          "data": {
            "text/plain": [
              "477"
            ]
          },
          "metadata": {
            "tags": []
          },
          "execution_count": 19
        }
      ]
    },
    {
      "cell_type": "code",
      "metadata": {
        "id": "HNsVXx-pZbBh",
        "colab_type": "code",
        "colab": {
          "base_uri": "https://localhost:8080/",
          "height": 110
        },
        "outputId": "f39e258d-75e3-4210-b209-14614d4f4133"
      },
      "source": [
        "#Is there a correlation between length of the Job Title string and Salary?\n",
        "\n",
        "sal['title_len'] = sal['JobTitle'].apply(len)\n",
        "sal[['TotalPayBenefits', 'title_len']].corr()\n"
      ],
      "execution_count": 20,
      "outputs": [
        {
          "output_type": "execute_result",
          "data": {
            "text/html": [
              "<div>\n",
              "<style scoped>\n",
              "    .dataframe tbody tr th:only-of-type {\n",
              "        vertical-align: middle;\n",
              "    }\n",
              "\n",
              "    .dataframe tbody tr th {\n",
              "        vertical-align: top;\n",
              "    }\n",
              "\n",
              "    .dataframe thead th {\n",
              "        text-align: right;\n",
              "    }\n",
              "</style>\n",
              "<table border=\"1\" class=\"dataframe\">\n",
              "  <thead>\n",
              "    <tr style=\"text-align: right;\">\n",
              "      <th></th>\n",
              "      <th>TotalPayBenefits</th>\n",
              "      <th>title_len</th>\n",
              "    </tr>\n",
              "  </thead>\n",
              "  <tbody>\n",
              "    <tr>\n",
              "      <th>TotalPayBenefits</th>\n",
              "      <td>1.000000</td>\n",
              "      <td>-0.036878</td>\n",
              "    </tr>\n",
              "    <tr>\n",
              "      <th>title_len</th>\n",
              "      <td>-0.036878</td>\n",
              "      <td>1.000000</td>\n",
              "    </tr>\n",
              "  </tbody>\n",
              "</table>\n",
              "</div>"
            ],
            "text/plain": [
              "                  TotalPayBenefits  title_len\n",
              "TotalPayBenefits          1.000000  -0.036878\n",
              "title_len                -0.036878   1.000000"
            ]
          },
          "metadata": {
            "tags": []
          },
          "execution_count": 20
        }
      ]
    },
    {
      "cell_type": "code",
      "metadata": {
        "id": "B1oWV2DoZj8C",
        "colab_type": "code",
        "colab": {}
      },
      "source": [
        ""
      ],
      "execution_count": null,
      "outputs": []
    }
  ]
}