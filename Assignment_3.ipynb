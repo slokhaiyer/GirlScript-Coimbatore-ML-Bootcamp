{
  "nbformat": 4,
  "nbformat_minor": 0,
  "metadata": {
    "colab": {
      "name": "Assignment 3.ipynb",
      "provenance": [],
      "collapsed_sections": []
    },
    "kernelspec": {
      "name": "python3",
      "display_name": "Python 3"
    }
  },
  "cells": [
    {
      "cell_type": "code",
      "metadata": {
        "id": "XNtcjnyW2hP8",
        "colab_type": "code",
        "colab": {
          "base_uri": "https://localhost:8080/",
          "height": 69
        },
        "outputId": "f3bfc80d-ec67-40a3-b90c-a965c8886d48"
      },
      "source": [
        "#Write a np program to create 3x3 matrix with values ranging from 2 to 10\n",
        "import numpy as np\n",
        "a =  np.arange(2, 11).reshape(3,3)\n",
        "print(a)"
      ],
      "execution_count": 24,
      "outputs": [
        {
          "output_type": "stream",
          "text": [
            "[[ 2  3  4]\n",
            " [ 5  6  7]\n",
            " [ 8  9 10]]\n"
          ],
          "name": "stdout"
        }
      ]
    },
    {
      "cell_type": "code",
      "metadata": {
        "id": "F6BWg7QJ7Rrn",
        "colab_type": "code",
        "colab": {
          "base_uri": "https://localhost:8080/",
          "height": 87
        },
        "outputId": "854ffbb7-f5ce-4fbf-9821-6c83f17786e8"
      },
      "source": [
        "#wanpp to create  null vector of size 10 and update sixth value to 11\n",
        "print(\"Original vector\")\n",
        "b = np.zeros(10)\n",
        "print(b)\n",
        "print(\"After updating sixth value to 11\")\n",
        "b[6] = 11\n",
        "print(b)"
      ],
      "execution_count": 25,
      "outputs": [
        {
          "output_type": "stream",
          "text": [
            "Original vector\n",
            "[0. 0. 0. 0. 0. 0. 0. 0. 0. 0.]\n",
            "After updating sixth value to 11\n",
            "[ 0.  0.  0.  0.  0.  0. 11.  0.  0.  0.]\n"
          ],
          "name": "stdout"
        }
      ]
    },
    {
      "cell_type": "code",
      "metadata": {
        "id": "gNyWpKe971ZY",
        "colab_type": "code",
        "colab": {
          "base_uri": "https://localhost:8080/",
          "height": 87
        },
        "outputId": "f8d3dfb4-a2ce-4837-d04a-84acd0b24537"
      },
      "source": [
        "#wanpp to reverse an array(first element becomes last)\n",
        "c = np.arange(1, 11)\n",
        "print(\"Original array:\")\n",
        "print(c)\n",
        "print(\"After reversing the array:\")\n",
        "c = c[::-1]\n",
        "print(c)"
      ],
      "execution_count": 26,
      "outputs": [
        {
          "output_type": "stream",
          "text": [
            "Original array:\n",
            "[ 1  2  3  4  5  6  7  8  9 10]\n",
            "After reversing the array:\n",
            "[10  9  8  7  6  5  4  3  2  1]\n"
          ],
          "name": "stdout"
        }
      ]
    },
    {
      "cell_type": "code",
      "metadata": {
        "id": "aONwolYL73Hd",
        "colab_type": "code",
        "colab": {
          "base_uri": "https://localhost:8080/",
          "height": 191
        },
        "outputId": "f03ace37-5c4b-49eb-93e4-f392faa6b748"
      },
      "source": [
        "#wanpp  to create a 2d array with 1 on the border and 0 inside\n",
        "d = np.ones((4,4))\n",
        "print(\"Original array:\")\n",
        "print(d)\n",
        "print(\"After 1 on the border and 0 inside in the array\")\n",
        "d[1:-1,1:-1] = 0\n",
        "print(d)"
      ],
      "execution_count": 27,
      "outputs": [
        {
          "output_type": "stream",
          "text": [
            "Original array:\n",
            "[[1. 1. 1. 1.]\n",
            " [1. 1. 1. 1.]\n",
            " [1. 1. 1. 1.]\n",
            " [1. 1. 1. 1.]]\n",
            "After 1 on the border and 0 inside in the array\n",
            "[[1. 1. 1. 1.]\n",
            " [1. 0. 0. 1.]\n",
            " [1. 0. 0. 1.]\n",
            " [1. 1. 1. 1.]]\n"
          ],
          "name": "stdout"
        }
      ]
    },
    {
      "cell_type": "code",
      "metadata": {
        "id": "7BAIC9y4_hW9",
        "colab_type": "code",
        "colab": {}
      },
      "source": [
        ""
      ],
      "execution_count": null,
      "outputs": []
    }
  ]
}